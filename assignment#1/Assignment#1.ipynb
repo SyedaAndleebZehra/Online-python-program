{
 "cells": [
  {
   "cell_type": "code",
   "execution_count": 1,
   "id": "b7f42e4d",
   "metadata": {},
   "outputs": [
    {
     "name": "stdout",
     "output_type": "stream",
     "text": [
      "Twinkle, twinkle, little star, \n",
      "   How I wonder what you are! \n",
      "Up above the world so high, \n",
      "         Like a diamond in the sky. \n",
      "Twinkle, twinkle, little star, \n",
      "   How I wonder what you are! \n"
     ]
    }
   ],
   "source": [
    "a = '''Twinkle, twinkle, little star, \n",
    "   How I wonder what you are! ''';\n",
    "b = '''Up above the world so high, \n",
    "         Like a diamond in the sky. ''';\n",
    "print(a,b,a,sep=('\\n'));"
   ]
  },
  {
   "cell_type": "code",
   "execution_count": 2,
   "id": "1b960002",
   "metadata": {},
   "outputs": [
    {
     "name": "stdout",
     "output_type": "stream",
     "text": [
      "3.9.7 (default, Sep 16 2021, 16:59:28) [MSC v.1916 64 bit (AMD64)]\n"
     ]
    }
   ],
   "source": [
    "import sys;\n",
    "print(sys.version);"
   ]
  },
  {
   "cell_type": "code",
   "execution_count": 3,
   "id": "91dbdee2",
   "metadata": {},
   "outputs": [
    {
     "name": "stdout",
     "output_type": "stream",
     "text": [
      "Today's date: 2021-12-31\n"
     ]
    }
   ],
   "source": [
    "from datetime import date\n",
    "\n",
    "today = date.today();\n",
    "print(\"Today's date:\", today);"
   ]
  },
  {
   "cell_type": "code",
   "execution_count": 4,
   "id": "d48a0c16",
   "metadata": {},
   "outputs": [
    {
     "name": "stdout",
     "output_type": "stream",
     "text": [
      "Input the radius of the circle : 16\n",
      "The area of the circle with radius 16.0 is: 804.247719318987\n"
     ]
    }
   ],
   "source": [
    "\n",
    "from math import pi\n",
    " \n",
    "r = float(input (\"Input the radius of the circle : \"));\n",
    " \n",
    "calculateArea = str(pi * r**2);\n",
    " \n",
    "print (\"The area of the circle with radius \" + str(r) + \" is: \" + calculateArea);"
   ]
  },
  {
   "cell_type": "code",
   "execution_count": 5,
   "id": "7ec065c4",
   "metadata": {},
   "outputs": [
    {
     "name": "stdout",
     "output_type": "stream",
     "text": [
      "Input your First Name : zehra\n",
      "Input your Last Name : rizvi\n",
      "Hello  rizvi zehra\n"
     ]
    }
   ],
   "source": [
    "fname = input(\"Input your First Name : \");\n",
    "lname = input(\"Input your Last Name : \");\n",
    "print (\"Hello  \" + lname + \" \" + fname);"
   ]
  },
  {
   "cell_type": "code",
   "execution_count": 6,
   "id": "bc803501",
   "metadata": {},
   "outputs": [
    {
     "name": "stdout",
     "output_type": "stream",
     "text": [
      "Enter first number: 5\n",
      "Enter second number: 5\n",
      "The sum of 5 and 5 is 10.0\n"
     ]
    }
   ],
   "source": [
    "num1 = input('Enter first number: ');\n",
    "num2 = input('Enter second number: ');\n",
    "sum = float(num1) + float(num2);\n",
    "print('The sum of {0} and {1} is {2}'.format(num1, num2, sum));"
   ]
  },
  {
   "cell_type": "code",
   "execution_count": null,
   "id": "d341c1d6",
   "metadata": {},
   "outputs": [],
   "source": []
  }
 ],
 "metadata": {
  "kernelspec": {
   "display_name": "Python 3 (ipykernel)",
   "language": "python",
   "name": "python3"
  },
  "language_info": {
   "codemirror_mode": {
    "name": "ipython",
    "version": 3
   },
   "file_extension": ".py",
   "mimetype": "text/x-python",
   "name": "python",
   "nbconvert_exporter": "python",
   "pygments_lexer": "ipython3",
   "version": "3.9.7"
  }
 },
 "nbformat": 4,
 "nbformat_minor": 5
}
